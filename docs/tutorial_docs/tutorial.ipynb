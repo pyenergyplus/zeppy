{
 "cells": [
  {
   "cell_type": "markdown",
   "metadata": {},
   "source": [
    "## Tutorial as a exploration\n",
    "\n",
    "As the code is being written the tutorial/examples are being written. So there is a qulaity of exploration to this section. Let try to run the simples code possible with this package\n",
    "\n"
   ]
  },
  {
   "cell_type": "code",
   "execution_count": 45,
   "metadata": {},
   "outputs": [],
   "source": [
    "from zeppy import ppipes\n",
    "import time"
   ]
  },
  {
   "cell_type": "markdown",
   "metadata": {},
   "source": [
    "the function `waitsome` will take wait for the time in `seconds`"
   ]
  },
  {
   "cell_type": "code",
   "execution_count": 46,
   "metadata": {},
   "outputs": [],
   "source": [
    "def waitsome(seconds):\n",
    "    \"\"\"wait for some seconds\"\"\"\n",
    "    time.sleep(seconds)\n",
    "    return seconds"
   ]
  },
  {
   "cell_type": "markdown",
   "metadata": {},
   "source": [
    "Let us call the function 5 times and see how long it takes"
   ]
  },
  {
   "cell_type": "code",
   "execution_count": 47,
   "metadata": {},
   "outputs": [
    {
     "name": "stdout",
     "output_type": "stream",
     "text": [
      "time to run this = 9.016 seconds\n"
     ]
    }
   ],
   "source": [
    "waitlist = [1, 2, 3, 2, 1]\n",
    "starttime = time.time()\n",
    "for seconds in waitlist:\n",
    "    waitsome(seconds)\n",
    "endtime = time.time()\n",
    "print(f'time to run this = {(endtime-starttime):.3f} seconds')"
   ]
  },
  {
   "cell_type": "markdown",
   "metadata": {},
   "source": [
    "it took 9.01 seconds to run -> pretty close 1+2+3+2+1 = 9 seconds\n",
    "Let us try this again using the `parallelpipe` function"
   ]
  },
  {
   "cell_type": "code",
   "execution_count": 48,
   "metadata": {},
   "outputs": [
    {
     "name": "stdout",
     "output_type": "stream",
     "text": [
      "time to run this = 3.385 seconds\n",
      "[1, 2, 3, 2, 1]\n"
     ]
    }
   ],
   "source": [
    "waitlist = [1, 2, 3, 2, 1] \n",
    "starttime = time.time()\n",
    "result = ppipes.ipc_parallelpipe(waitsome, waitlist)    \n",
    "endtime = time.time()\n",
    "print(f'time to run this = {(endtime-starttime):.3f} seconds')\n",
    "print(result)"
   ]
  },
  {
   "cell_type": "markdown",
   "metadata": {},
   "source": [
    "It took about 3.39 seconds. This is because the `ipc_parallelpipe` ran the function 5 times too. But it ran it in parallel - simultanesouly\n",
    "Now let us run it with `verbose=True`, so we can see what is going on under the hood."
   ]
  },
  {
   "cell_type": "code",
   "execution_count": 49,
   "metadata": {},
   "outputs": [
    {
     "name": "stdout",
     "output_type": "stream",
     "text": [
      "started worker 0\n",
      "started worker 1\n",
      "started worker 2\n",
      "started worker 3\n",
      "started worker 4\n",
      "started sink\n",
      "number of calculations = 5\n",
      "running item: 0, in worker: 0\n",
      "started vent\n",
      "running item: 2, in worker: 1\n",
      "running item: 3, in worker: 2\n",
      "running item: 4, in worker: 3\n",
      "running item: 1, in worker: 0\n",
      "Total taken time for all calcs: 3283 msec\n",
      "time to run this = 3.360 seconds\n",
      "result = [1, 2, 3, 2, 1]\n"
     ]
    }
   ],
   "source": [
    "waitlist = [1, 2, 3, 2, 1] \n",
    "starttime = time.time()\n",
    "result = ppipes.ipc_parallelpipe(waitsome, waitlist, verbose=True)    \n",
    "endtime = time.time()\n",
    "print(f'time to run this = {(endtime-starttime):.3f} seconds')\n",
    "print(f'result = {result}')"
   ]
  },
  {
   "cell_type": "markdown",
   "metadata": {},
   "source": [
    "### The output tells you what is happening:\n",
    "\n",
    "- it starts up 5 workers to run `waitsome` 5 times\n",
    "- it starts up the sink. The sink collects the results form the workers\n",
    "- Then it starts the ventilator that sends the 5 tasks to the workers\n",
    "- the tasks are distributed evenly in no particular order between the workers\n",
    "- notice that the first worker got it's task before the ventilator finished distributed all the tasks and printed `started ventilator`\n",
    "\n",
    "Now let us try this with only 2 workers"
   ]
  },
  {
   "cell_type": "code",
   "execution_count": 50,
   "metadata": {},
   "outputs": [
    {
     "name": "stdout",
     "output_type": "stream",
     "text": [
      "started worker 0\n",
      "started worker 1\n",
      "started sink\n",
      "number of calculations = 5\n",
      "running item: 0, in worker: 0\n",
      "started vent\n",
      "running item: 2, in worker: 1\n",
      "running item: 1, in worker: 0\n",
      "running item: 3, in worker: 0\n",
      "running item: 4, in worker: 1\n",
      "Total taken time for all calcs: 5077 msec\n",
      "time to run this = 5.166 seconds\n",
      "[1, 2, 3, 2, 1]\n"
     ]
    }
   ],
   "source": [
    "waitlist = [1, 2, 3, 2, 1] \n",
    "starttime = time.time()\n",
    "result = ppipes.ipc_parallelpipe(waitsome, waitlist, verbose=True, nworkers=2)    \n",
    "endtime = time.time()\n",
    "print(f'time to run this = {(endtime-starttime):.3f} seconds')\n",
    "print(result)"
   ]
  },
  {
   "cell_type": "markdown",
   "metadata": {},
   "source": [
    "Looks like `worker 0` made 3 runs, and `worker 1` made 2 runs. The whole thing too 5.14 secs. Still quicker than 9 seconds\n",
    "\n",
    "This is fun. Can we do some energyplus runs now. Ha! hold on. Let us move slowly. Here is a different function to try"
   ]
  },
  {
   "cell_type": "code",
   "execution_count": 51,
   "metadata": {},
   "outputs": [],
   "source": [
    "def wait_add(first, second):\n",
    "    \"\"\"wait for the sum of first and second. return the sum\"\"\"\n",
    "    seconds = first + second\n",
    "    return waitsome(seconds)    "
   ]
  },
  {
   "cell_type": "markdown",
   "metadata": {},
   "source": [
    "How are we going to send two args to the function"
   ]
  },
  {
   "cell_type": "code",
   "execution_count": 52,
   "metadata": {},
   "outputs": [
    {
     "name": "stdout",
     "output_type": "stream",
     "text": [
      "started worker 0\n",
      "started worker 1\n",
      "started worker 2\n",
      "started worker 3\n",
      "started worker 4\n",
      "started sink\n",
      "number of calculations = 5\n",
      "running item: 0, in worker: 0\n",
      "started vent\n",
      "running item: 2, in worker: 1\n",
      "running item: 3, in worker: 2\n",
      "running item: 4, in worker: 3\n",
      "running item: 1, in worker: 0\n",
      "time to run this = 3.353 seconds\n",
      "[1, 2, 3, 2, 1]\n",
      "Total taken time for all calcs: 3284 msec\n"
     ]
    }
   ],
   "source": [
    "waitlist = [(1, 0), (1, 1), (2, 1), (2, 0), (0, 1)] \n",
    "starttime = time.time()\n",
    "result = ppipes.ipc_parallelpipe(wait_add, waitlist, verbose=True)    \n",
    "endtime = time.time()\n",
    "print(f'time to run this = {(endtime-starttime):.3f} seconds')\n",
    "print(result)"
   ]
  },
  {
   "cell_type": "markdown",
   "metadata": {},
   "source": [
    "How about a function that has named arguments. Let us try that"
   ]
  },
  {
   "cell_type": "code",
   "execution_count": null,
   "metadata": {},
   "outputs": [],
   "source": []
  }
 ],
 "metadata": {
  "kernelspec": {
   "display_name": "Python 3",
   "language": "python",
   "name": "python3"
  },
  "language_info": {
   "codemirror_mode": {
    "name": "ipython",
    "version": 3
   },
   "file_extension": ".py",
   "mimetype": "text/x-python",
   "name": "python",
   "nbconvert_exporter": "python",
   "pygments_lexer": "ipython3",
   "version": "3.7.4"
  }
 },
 "nbformat": 4,
 "nbformat_minor": 4
}
