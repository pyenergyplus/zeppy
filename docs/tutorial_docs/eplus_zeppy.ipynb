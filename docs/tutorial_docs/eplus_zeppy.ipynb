{
 "cells": [
  {
   "cell_type": "markdown",
   "metadata": {},
   "source": [
    "## E+ in zeppy\n",
    "Here we try to run E+ thru zeppy\n",
    "\n",
    "Lets start by using eppy to do this"
   ]
  },
  {
   "cell_type": "code",
   "execution_count": 8,
   "metadata": {},
   "outputs": [],
   "source": [
    "# setting the path name so that the tutorial works from this directory\n",
    "# if you install zeppy with `pip install zeppy` you will not need to do this\n",
    "import sys\n",
    "# pathnameto_zeppy = 'c:/eppy'\n",
    "pathnameto_zeppy = '../../'\n",
    "sys.path.append(pathnameto_zeppy)"
   ]
  },
  {
   "cell_type": "code",
   "execution_count": 9,
   "metadata": {},
   "outputs": [],
   "source": [
    "import eppy\n",
    "fname = \"../../eplus_files/1ZoneUncontrolled3SurfaceZone.idf\"\n",
    "wfile = \"/Applications/EnergyPlus-9-1-0/WeatherData/USA_CO_Golden-NREL.724666_TMY3.epw\"\n",
    "idf = eppy.openidf(fname, epw=wfile)\n",
    "import witheppy.runner"
   ]
  },
  {
   "cell_type": "code",
   "execution_count": 10,
   "metadata": {},
   "outputs": [
    {
     "name": "stdout",
     "output_type": "stream",
     "text": [
      "\r\n",
      "/Applications/EnergyPlus-9-1-0/energyplus --weather /Applications/EnergyPlus-9-1-0/WeatherData/USA_CO_Golden-NREL.724666_TMY3.epw --output-directory /Users/santoshphilip/Documents/coolshadow/temp/newrepo/zeppy/eplus_files --idd /Applications/EnergyPlus-9-1-0/Energy+.idd --expandobjects --output-prefix 1ZoneUncontrolled3SurfaceZone --output-suffix C /Users/santoshphilip/Documents/coolshadow/temp/newrepo/zeppy/docs/tutorial_docs/in.idf\r\n",
      "\n"
     ]
    }
   ],
   "source": [
    "witheppy.runner.eplaunch_run(idf)"
   ]
  },
  {
   "cell_type": "code",
   "execution_count": 11,
   "metadata": {},
   "outputs": [],
   "source": [
    "# idf.run()"
   ]
  },
  {
   "cell_type": "markdown",
   "metadata": {},
   "source": [
    "eppy is not running idf.run() in `jupyter notebook`. Might have to open an issue in github\n",
    "\n",
    "- It actually runs.\n",
    "- does not show "
   ]
  },
  {
   "cell_type": "code",
   "execution_count": 12,
   "metadata": {},
   "outputs": [],
   "source": [
    "def idfversion(idf):\n",
    "    versions = idf.idfobjects['version']\n",
    "    ver = versions[0]\n",
    "    return ver.Version_Identifier"
   ]
  },
  {
   "cell_type": "code",
   "execution_count": 13,
   "metadata": {},
   "outputs": [],
   "source": [
    "# import multiprocessing\n",
    "# p = multiprocessing.Process(target=idf.run)\n",
    "# p.start()\n"
   ]
  },
  {
   "cell_type": "code",
   "execution_count": 14,
   "metadata": {},
   "outputs": [
    {
     "name": "stdout",
     "output_type": "stream",
     "text": [
      "done with run\n"
     ]
    }
   ],
   "source": [
    "print('done with run')"
   ]
  }
 ],
 "metadata": {
  "kernelspec": {
   "display_name": "Python 3",
   "language": "python",
   "name": "python3"
  },
  "language_info": {
   "codemirror_mode": {
    "name": "ipython",
    "version": 3
   },
   "file_extension": ".py",
   "mimetype": "text/x-python",
   "name": "python",
   "nbconvert_exporter": "python",
   "pygments_lexer": "ipython3",
   "version": "3.7.4"
  }
 },
 "nbformat": 4,
 "nbformat_minor": 4
}
