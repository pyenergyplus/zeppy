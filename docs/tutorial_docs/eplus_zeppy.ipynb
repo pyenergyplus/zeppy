{
 "cells": [
  {
   "cell_type": "markdown",
   "metadata": {},
   "source": [
    "## E+ in zeppy\n",
    "Here we try to run E+ thru zeppy\n",
    "\n",
    "Lets start by using eppy to do this\n",
    "(make sure you have eppy installed before you do this.)"
   ]
  },
  {
   "cell_type": "code",
   "execution_count": 1,
   "metadata": {},
   "outputs": [],
   "source": [
    "# setting the path name so that the tutorial works from this directory\n",
    "# if you install zeppy with `pip install zeppy` you will not need to do this\n",
    "import sys\n",
    "# pathnameto_zeppy = 'c:/eppy'\n",
    "pathnameto_zeppy = '../../'\n",
    "sys.path.append(pathnameto_zeppy)"
   ]
  },
  {
   "cell_type": "code",
   "execution_count": 2,
   "metadata": {},
   "outputs": [],
   "source": [
    "import os\n",
    "import eppy\n",
    "from zeppy import ppipes\n",
    "wfile = \"/Applications/EnergyPlus-9-1-0/WeatherData/USA_CO_Golden-NREL.724666_TMY3.epw\""
   ]
  },
  {
   "cell_type": "code",
   "execution_count": 3,
   "metadata": {},
   "outputs": [],
   "source": [
    "fnames = [\n",
    "    # \"./eplus_files/Minimal.idf\",\n",
    "        \"../../eplus_files/UnitHeaterGasElec.idf\",\n",
    "        \"../../eplus_files/ZoneWSHP_wDOAS.idf\",\n",
    "        \"../../eplus_files/ZoneWSHP_wDOAS_1.idf\",\n",
    "        ]\n",
    "wfile = \"/Applications/EnergyPlus-9-1-0/WeatherData/USA_CO_Golden-NREL.724666_TMY3.epw\"\n",
    "idfs = [eppy.openidf(fname, epw=wfile) for fname in fnames]"
   ]
  },
  {
   "cell_type": "markdown",
   "metadata": {},
   "source": [
    "Let us write a couple of helper functions"
   ]
  },
  {
   "cell_type": "code",
   "execution_count": 4,
   "metadata": {},
   "outputs": [],
   "source": [
    "def idf_multirun(idf_kwargs):\n",
    "    import eppy\n",
    "    # for some reason idf.run() does not work\n",
    "    # so I am using runIDFs to run one idf at a time\n",
    "    idf = idf_kwargs['args']\n",
    "    options = idf_kwargs['kwargs']\n",
    "    eppy.runner.run_functions.runIDFs( [(idf, options)] ) \n",
    "\n",
    "\n",
    "def make_options(idf):\n",
    "    idfversion = idf.idfobjects['version'][0].Version_Identifier.split('.')\n",
    "    idfversion.extend([0] * (3 - len(idfversion)))\n",
    "    idfversionstr = '-'.join([str(item) for item in idfversion])\n",
    "    fname = idf.idfname\n",
    "    options = {\n",
    "        'ep_version':idfversionstr,\n",
    "        'output_prefix':os.path.basename(fname).split()[0],\n",
    "        'output_suffix':'C',\n",
    "        'output_directory':os.path.dirname(fname),\n",
    "        }\n",
    "    return options\n"
   ]
  },
  {
   "cell_type": "markdown",
   "metadata": {},
   "source": [
    "Now let us run the E+ files"
   ]
  },
  {
   "cell_type": "code",
   "execution_count": 5,
   "metadata": {},
   "outputs": [
    {
     "name": "stdout",
     "output_type": "stream",
     "text": [
      "started worker 0\n",
      "started worker 1\n",
      "started worker 2\n",
      "starting sink\n",
      "number of calculations = 3\n",
      "sleeptime=0.1\n",
      "started ventilator\n",
      "running item: 0, in worker: 0\n",
      "\n",
      "/Applications/EnergyPlus-9-1-0/energyplus --weather /Applications/EnergyPlus-9-1-0/WeatherData/USA_CO_Golden-NREL.724666_TMY3.epw --output-directory /Users/santoshphilip/Documents/coolshadow/temp/newrepo/zeppy/eplus_files --output-prefix UnitHeaterGasElec.idf --output-suffix C /Users/santoshphilip/Documents/coolshadow/temp/newrepo/zeppy/docs/tutorial_docs/multi_runs/idf_0/in.idf\n",
      "\n",
      "sleeptime=0.1\n",
      "sleeptime=0.1\n",
      "running item: 2, in worker: 1\n",
      "\n",
      "/Applications/EnergyPlus-9-1-0/energyplus --weather /Applications/EnergyPlus-9-1-0/WeatherData/USA_CO_Golden-NREL.724666_TMY3.epw --output-directory /Users/santoshphilip/Documents/coolshadow/temp/newrepo/zeppy/eplus_files --output-prefix ZoneWSHP_wDOAS_1.idf --output-suffix C /Users/santoshphilip/Documents/coolshadow/temp/newrepo/zeppy/docs/tutorial_docs/multi_runs/idf_0/in.idf\n",
      "\n",
      "sent result of item: 0, in worker: 0 to sink\n",
      "running item: 1, in worker: 0\n",
      "\n",
      "/Applications/EnergyPlus-9-1-0/energyplus --weather /Applications/EnergyPlus-9-1-0/WeatherData/USA_CO_Golden-NREL.724666_TMY3.epw --output-directory /Users/santoshphilip/Documents/coolshadow/temp/newrepo/zeppy/eplus_files --output-prefix ZoneWSHP_wDOAS.idf --output-suffix C /Users/santoshphilip/Documents/coolshadow/temp/newrepo/zeppy/docs/tutorial_docs/multi_runs/idf_0/in.idf\n",
      "\n",
      "sent result of item: 2, in worker: 1 to sink\n",
      "sent result of item: 1, in worker: 0 to sink\n",
      "Total taken time for all calcs: 23895 msec\n",
      "[None, None, None]\n"
     ]
    }
   ],
   "source": [
    "waitlist = [[{'args':idf, 'kwargs':make_options(idf)}] for idf in idfs]\n",
    "func = idf_multirun\n",
    "result = ppipes.ipc_parallelpipe(func, waitlist, nworkers=None, verbose=True)\n",
    "print(result)"
   ]
  },
  {
   "cell_type": "markdown",
   "metadata": {},
   "source": [
    "### Ha! all three files run. \n",
    "The results are `None`, since we did not write code to exract and return any outputs from the E+ outputs\n",
    "\n",
    "Let us try running on a single worker and see how long it takes:"
   ]
  },
  {
   "cell_type": "code",
   "execution_count": 6,
   "metadata": {},
   "outputs": [
    {
     "name": "stdout",
     "output_type": "stream",
     "text": [
      "started worker 0\n",
      "starting sink\n",
      "number of calculations = 3\n",
      "started ventilator\n",
      "sleeptime=0.1\n",
      "running item: 0, in worker: 0\n",
      "\n",
      "/Applications/EnergyPlus-9-1-0/energyplus --weather /Applications/EnergyPlus-9-1-0/WeatherData/USA_CO_Golden-NREL.724666_TMY3.epw --output-directory /Users/santoshphilip/Documents/coolshadow/temp/newrepo/zeppy/eplus_files --output-prefix UnitHeaterGasElec.idf --output-suffix C /Users/santoshphilip/Documents/coolshadow/temp/newrepo/zeppy/docs/tutorial_docs/multi_runs/idf_0/in.idf\n",
      "\n",
      "sleeptime=0.1\n",
      "sleeptime=0.1\n",
      "sent result of item: 0, in worker: 0 to sink\n",
      "running item: 1, in worker: 0\n",
      "\n",
      "/Applications/EnergyPlus-9-1-0/energyplus --weather /Applications/EnergyPlus-9-1-0/WeatherData/USA_CO_Golden-NREL.724666_TMY3.epw --output-directory /Users/santoshphilip/Documents/coolshadow/temp/newrepo/zeppy/eplus_files --output-prefix ZoneWSHP_wDOAS.idf --output-suffix C /Users/santoshphilip/Documents/coolshadow/temp/newrepo/zeppy/docs/tutorial_docs/multi_runs/idf_0/in.idf\n",
      "\n",
      "sent result of item: 1, in worker: 0 to sink\n",
      "running item: 2, in worker: 0\n",
      "\n",
      "/Applications/EnergyPlus-9-1-0/energyplus --weather /Applications/EnergyPlus-9-1-0/WeatherData/USA_CO_Golden-NREL.724666_TMY3.epw --output-directory /Users/santoshphilip/Documents/coolshadow/temp/newrepo/zeppy/eplus_files --output-prefix ZoneWSHP_wDOAS_1.idf --output-suffix C /Users/santoshphilip/Documents/coolshadow/temp/newrepo/zeppy/docs/tutorial_docs/multi_runs/idf_0/in.idf\n",
      "\n",
      "Total taken time for all calcs: 36576 msec\n",
      "sent result of item: 2, in worker: 0 to sink\n",
      "[None, None, None]\n"
     ]
    }
   ],
   "source": [
    "result = ppipes.ipc_parallelpipe(func, waitlist, nworkers=1, verbose=True)\n",
    "print(result)"
   ]
  },
  {
   "cell_type": "markdown",
   "metadata": {},
   "source": [
    "OK. Took a bit longer running on just one worker"
   ]
  },
  {
   "cell_type": "markdown",
   "metadata": {},
   "source": [
    "### Multi core machines\n",
    "\n",
    "- some superficial testing has shown that on a multicore machine, each run is on a different core.\n",
    "- you can force the number of cores running by setting a value for `nworkers`\n",
    "- if you have more runs than cores. Say you have 4 cores and 50 runs, you can set `nworker=4`. The runs would be spread evenly on all the cores. About 12 or 13 runs on each core. Each core will execute the runs sequentially.\n",
    "- If you have 4 cores and assign 10 workers, it will still run. We have not checked ot see how it does it."
   ]
  }
 ],
 "metadata": {
  "kernelspec": {
   "display_name": "Python 3",
   "language": "python",
   "name": "python3"
  },
  "language_info": {
   "codemirror_mode": {
    "name": "ipython",
    "version": 3
   },
   "file_extension": ".py",
   "mimetype": "text/x-python",
   "name": "python",
   "nbconvert_exporter": "python",
   "pygments_lexer": "ipython3",
   "version": "3.7.4"
  }
 },
 "nbformat": 4,
 "nbformat_minor": 4
}
